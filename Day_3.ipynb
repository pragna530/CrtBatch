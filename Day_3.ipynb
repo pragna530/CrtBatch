{
  "nbformat": 4,
  "nbformat_minor": 0,
  "metadata": {
    "colab": {
      "name": "Day 3",
      "provenance": [],
      "collapsed_sections": []
    },
    "kernelspec": {
      "name": "python3",
      "display_name": "Python 3"
    }
  },
  "cells": [
    {
      "cell_type": "markdown",
      "metadata": {
        "id": "3jB-g63edGy6",
        "colab_type": "text"
      },
      "source": [
        "#Day 3\n",
        "\n"
      ]
    },
    {
      "cell_type": "markdown",
      "metadata": {
        "id": "ihcs9ZsldJ08",
        "colab_type": "text"
      },
      "source": [
        "#functions:\n",
        "\n",
        "   def functonname(arguments):\n",
        "          \n",
        "          statements\n",
        "          return"
      ]
    },
    {
      "cell_type": "code",
      "metadata": {
        "id": "g9qNi2w3dnB3",
        "colab_type": "code",
        "outputId": "f7d028aa-97aa-4f4a-f14d-965c39ac74ff",
        "colab": {
          "base_uri": "https://localhost:8080/",
          "height": 34
        }
      },
      "source": [
        "#even digit sum\n",
        "\n",
        "def EvenDigitSum(n):\n",
        "  s=0;\n",
        "  while n!=0:\n",
        "    r=n%10\n",
        "    if r%2==0:\n",
        "      s=s+r\n",
        "    n=n//10\n",
        "  print(s) #print only temporarily stores the value of 's'.The future reference to var s wont print the value of s in the function.TO do so use return\n",
        "\n",
        "EvenDigitSum(1234)"
      ],
      "execution_count": 0,
      "outputs": [
        {
          "output_type": "stream",
          "text": [
            "6\n"
          ],
          "name": "stdout"
        }
      ]
    },
    {
      "cell_type": "code",
      "metadata": {
        "id": "mrsPJUuyfPLH",
        "colab_type": "code",
        "outputId": "3ea0abd2-8417-4c1b-fd29-af19197a7ceb",
        "colab": {
          "base_uri": "https://localhost:8080/",
          "height": 34
        }
      },
      "source": [
        "#print the largest digit\n",
        "def largernumber(n):\n",
        "  large=0\n",
        "  while n!=0:\n",
        "    r=n%10\n",
        "    if large<r:\n",
        "      large=r\n",
        "    n=n//10\n",
        "  return large  #return can return multiple values by separating them with a comma.\n",
        "\n",
        "L=largernumber(5978)\n",
        "L"
      ],
      "execution_count": 0,
      "outputs": [
        {
          "output_type": "execute_result",
          "data": {
            "text/plain": [
              "9"
            ]
          },
          "metadata": {
            "tags": []
          },
          "execution_count": 13
        }
      ]
    },
    {
      "cell_type": "code",
      "metadata": {
        "id": "BwNMSITfgZrs",
        "colab_type": "code",
        "outputId": "8559f589-a967-491b-e08e-3640cd7165c3",
        "colab": {
          "base_uri": "https://localhost:8080/",
          "height": 162
        }
      },
      "source": [
        "l"
      ],
      "execution_count": 0,
      "outputs": [
        {
          "output_type": "error",
          "ename": "NameError",
          "evalue": "ignored",
          "traceback": [
            "\u001b[0;31m---------------------------------------------------------------------------\u001b[0m",
            "\u001b[0;31mNameError\u001b[0m                                 Traceback (most recent call last)",
            "\u001b[0;32m<ipython-input-14-cde25b5e10ad>\u001b[0m in \u001b[0;36m<module>\u001b[0;34m()\u001b[0m\n\u001b[0;32m----> 1\u001b[0;31m \u001b[0ml\u001b[0m\u001b[0;34m\u001b[0m\u001b[0;34m\u001b[0m\u001b[0m\n\u001b[0m",
            "\u001b[0;31mNameError\u001b[0m: name 'l' is not defined"
          ]
        }
      ]
    },
    {
      "cell_type": "code",
      "metadata": {
        "id": "WRUt6veViImC",
        "colab_type": "code",
        "outputId": "efaf7dde-1717-4c1e-c4ac-bcc119b9ae7c",
        "colab": {
          "base_uri": "https://localhost:8080/",
          "height": 34
        }
      },
      "source": [
        "L"
      ],
      "execution_count": 0,
      "outputs": [
        {
          "output_type": "execute_result",
          "data": {
            "text/plain": [
              "9"
            ]
          },
          "metadata": {
            "tags": []
          },
          "execution_count": 15
        }
      ]
    },
    {
      "cell_type": "code",
      "metadata": {
        "id": "HzSeF1hdiJa_",
        "colab_type": "code",
        "colab": {}
      },
      "source": [
        "#factorial\n",
        "#strong number\n",
        "#palindrome"
      ],
      "execution_count": 0,
      "outputs": []
    },
    {
      "cell_type": "code",
      "metadata": {
        "id": "JiluG_SNilMj",
        "colab_type": "code",
        "colab": {}
      },
      "source": [
        ""
      ],
      "execution_count": 0,
      "outputs": []
    },
    {
      "cell_type": "markdown",
      "metadata": {
        "id": "6YOO1Re-imXv",
        "colab_type": "text"
      },
      "source": [
        "# COLLECTION TYPES:\n",
        "   - list\n",
        "\n",
        "> \n",
        "\n",
        "\n",
        "       -always enclosed in []\n",
        "       -elements in a list are always separted by a comma( , )\n",
        "       -different datatypes can be stored in the same list \n",
        "       -elements have pasitive indexing from the LHS and negetive indexing at the RHS \n",
        "   - tuples\n",
        "   - set \n",
        "   - dicionary\n",
        "\n",
        " 4 data structures available in python   "
      ]
    },
    {
      "cell_type": "code",
      "metadata": {
        "id": "P93gP2yzi8-e",
        "colab_type": "code",
        "outputId": "426aa39e-f399-4d8f-96de-e63230f564c0",
        "colab": {
          "base_uri": "https://localhost:8080/",
          "height": 50
        }
      },
      "source": [
        "#list\n",
        "list1 = [1,1.2,'abc']\n",
        "print(list1)\n",
        "type(list1)"
      ],
      "execution_count": 0,
      "outputs": [
        {
          "output_type": "stream",
          "text": [
            "[1, 1.2, 'abc']\n"
          ],
          "name": "stdout"
        },
        {
          "output_type": "execute_result",
          "data": {
            "text/plain": [
              "list"
            ]
          },
          "metadata": {
            "tags": []
          },
          "execution_count": 17
        }
      ]
    },
    {
      "cell_type": "code",
      "metadata": {
        "id": "Qequ7QxHj_nQ",
        "colab_type": "code",
        "outputId": "8dca7e2d-beff-42d1-9ac8-3ec018bacaed",
        "colab": {
          "base_uri": "https://localhost:8080/",
          "height": 235
        }
      },
      "source": [
        "l=[1,2,3,4,5,6]\n",
        "print(l[3])\n",
        "print(l[-1])#indexing\n",
        "print(l[2:4])#range is left inclusive and right exclusive\n",
        "print(l[0:4:2])\n",
        "print(l[0:-2])\n",
        "print(l[-1:])\n",
        "print(l[-4:])#without stop value executes till the end of the list\n",
        "print(l[::3])\n",
        "\n",
        "#basic functions of a list\n",
        "l1=[1,5,7,8,9]\n",
        "print(max(l1))\n",
        "print(min(l1))\n",
        "print(sum(l1))\n",
        "print(len(l1))\n",
        "print(sum(l1)/len(l1))#avg\n",
        "del l1[4]#deletes the element\n",
        "l1\n",
        "del l1#delets the list\n"
      ],
      "execution_count": 0,
      "outputs": [
        {
          "output_type": "stream",
          "text": [
            "4\n",
            "6\n",
            "[3, 4]\n",
            "[1, 3]\n",
            "[1, 2, 3, 4]\n",
            "[6]\n",
            "[3, 4, 5, 6]\n",
            "[1, 4]\n",
            "9\n",
            "1\n",
            "30\n",
            "5\n",
            "6.0\n"
          ],
          "name": "stdout"
        }
      ]
    },
    {
      "cell_type": "code",
      "metadata": {
        "id": "nk8dkGuZlgFX",
        "colab_type": "code",
        "outputId": "5fd34d7d-512d-413e-b828-4f829c2e7f46",
        "colab": {
          "base_uri": "https://localhost:8080/",
          "height": 67
        }
      },
      "source": [
        "print(l*2) #dublicates tthe list\n",
        "print(7 in l)\n",
        "print(2 in l)\n"
      ],
      "execution_count": 0,
      "outputs": [
        {
          "output_type": "stream",
          "text": [
            "[1, 2, 3, 4, 5, 6, 1, 2, 3, 4, 5, 6]\n",
            "False\n",
            "True\n"
          ],
          "name": "stdout"
        }
      ]
    },
    {
      "cell_type": "code",
      "metadata": {
        "id": "nu1OO1McuNyK",
        "colab_type": "code",
        "outputId": "0a590447-8541-475e-8ede-ea4843917d47",
        "colab": {
          "base_uri": "https://localhost:8080/",
          "height": 118
        }
      },
      "source": [
        "#accesing elements through iterations\n",
        "l\n",
        "for i in l:\n",
        "  print(i)"
      ],
      "execution_count": 0,
      "outputs": [
        {
          "output_type": "stream",
          "text": [
            "1\n",
            "2\n",
            "3\n",
            "4\n",
            "5\n",
            "6\n"
          ],
          "name": "stdout"
        }
      ]
    },
    {
      "cell_type": "code",
      "metadata": {
        "id": "hRNyVzDuunkj",
        "colab_type": "code",
        "outputId": "6aaee6a3-4cb3-4e96-b4de-f5da36a06a0e",
        "colab": {
          "base_uri": "https://localhost:8080/",
          "height": 118
        }
      },
      "source": [
        "for i in range(len(l)):\n",
        "  print(l[i])\n"
      ],
      "execution_count": 0,
      "outputs": [
        {
          "output_type": "stream",
          "text": [
            "1\n",
            "2\n",
            "3\n",
            "4\n",
            "5\n",
            "6\n"
          ],
          "name": "stdout"
        }
      ]
    },
    {
      "cell_type": "code",
      "metadata": {
        "id": "t824JeNav1tI",
        "colab_type": "code",
        "outputId": "acfd695e-fdbb-47cb-a9f4-b3434f74bf23",
        "colab": {
          "base_uri": "https://localhost:8080/",
          "height": 34
        }
      },
      "source": [
        "l.insert(1,\"gitam\")\n",
        "l"
      ],
      "execution_count": 0,
      "outputs": [
        {
          "output_type": "execute_result",
          "data": {
            "text/plain": [
              "[1, 'gitam', 2, 3, 4, 5, 6]"
            ]
          },
          "metadata": {
            "tags": []
          },
          "execution_count": 45
        }
      ]
    },
    {
      "cell_type": "code",
      "metadata": {
        "id": "EZRDl7NwxIVE",
        "colab_type": "code",
        "outputId": "79dceb19-15da-47dd-ecf6-6a7f37f92e1a",
        "colab": {
          "base_uri": "https://localhost:8080/",
          "height": 34
        }
      },
      "source": [
        "l.count(1)#count the number of occurences of an element\n",
        "l.pop()#deletes the last value of the list\n"
      ],
      "execution_count": 0,
      "outputs": [
        {
          "output_type": "execute_result",
          "data": {
            "text/plain": [
              "6"
            ]
          },
          "metadata": {
            "tags": []
          },
          "execution_count": 48
        }
      ]
    },
    {
      "cell_type": "code",
      "metadata": {
        "id": "87OD5w0Sxh_1",
        "colab_type": "code",
        "outputId": "99e0b49d-622a-40a9-893e-e66c8f39c810",
        "colab": {
          "base_uri": "https://localhost:8080/",
          "height": 34
        }
      },
      "source": [
        "l"
      ],
      "execution_count": 0,
      "outputs": [
        {
          "output_type": "execute_result",
          "data": {
            "text/plain": [
              "[1, 'gitam', 2, 3, 4, 5]"
            ]
          },
          "metadata": {
            "tags": []
          },
          "execution_count": 49
        }
      ]
    },
    {
      "cell_type": "code",
      "metadata": {
        "id": "2kfbLxgUyKd3",
        "colab_type": "code",
        "outputId": "2b2a7048-d887-4a92-f304-31d6d4cf35d6",
        "colab": {
          "base_uri": "https://localhost:8080/",
          "height": 34
        }
      },
      "source": [
        "l.pop(3)\n",
        "l"
      ],
      "execution_count": 0,
      "outputs": [
        {
          "output_type": "execute_result",
          "data": {
            "text/plain": [
              "[1, 'gitam', 2, 4, 5]"
            ]
          },
          "metadata": {
            "tags": []
          },
          "execution_count": 50
        }
      ]
    },
    {
      "cell_type": "code",
      "metadata": {
        "id": "bX1iH2oVyfh0",
        "colab_type": "code",
        "outputId": "5ac7a739-1430-4c33-e65d-db357a0141d0",
        "colab": {
          "base_uri": "https://localhost:8080/",
          "height": 34
        }
      },
      "source": [
        "li=[123,231]\n",
        "l.extend(li)\n",
        "l"
      ],
      "execution_count": 0,
      "outputs": [
        {
          "output_type": "execute_result",
          "data": {
            "text/plain": [
              "[1, 'gitam', 2, 4, 5, 123, 231, 123, 231]"
            ]
          },
          "metadata": {
            "tags": []
          },
          "execution_count": 55
        }
      ]
    },
    {
      "cell_type": "code",
      "metadata": {
        "id": "4PJosvCKzLSI",
        "colab_type": "code",
        "outputId": "466da350-3b87-41da-e134-4285e5dba74c",
        "colab": {
          "base_uri": "https://localhost:8080/",
          "height": 34
        }
      },
      "source": [
        "\n",
        "l.pop(1)\n",
        "\n"
      ],
      "execution_count": 0,
      "outputs": [
        {
          "output_type": "execute_result",
          "data": {
            "text/plain": [
              "'gitam'"
            ]
          },
          "metadata": {
            "tags": []
          },
          "execution_count": 59
        }
      ]
    },
    {
      "cell_type": "code",
      "metadata": {
        "id": "qqcwyls3zthq",
        "colab_type": "code",
        "outputId": "f5e28ee7-4530-41ab-bc68-eac8fc25e239",
        "colab": {
          "base_uri": "https://localhost:8080/",
          "height": 34
        }
      },
      "source": [
        "l.sort()\n",
        "l"
      ],
      "execution_count": 0,
      "outputs": [
        {
          "output_type": "execute_result",
          "data": {
            "text/plain": [
              "[1, 2, 4, 5, 123, 123, 231, 231]"
            ]
          },
          "metadata": {
            "tags": []
          },
          "execution_count": 60
        }
      ]
    },
    {
      "cell_type": "code",
      "metadata": {
        "id": "8wjAH9XPz9bD",
        "colab_type": "code",
        "outputId": "40bd860a-582b-4625-fca4-8eaa558651ad",
        "colab": {
          "base_uri": "https://localhost:8080/",
          "height": 34
        }
      },
      "source": [
        "#function to print the biggest number\n",
        "def largenumber(l,n):\n",
        "  l.sort()\n",
        "  return l[n]\n",
        "\n",
        "list2=[123,45,6,2,542]\n",
        "largenumber(list2,-2)"
      ],
      "execution_count": 0,
      "outputs": [
        {
          "output_type": "execute_result",
          "data": {
            "text/plain": [
              "123"
            ]
          },
          "metadata": {
            "tags": []
          },
          "execution_count": 64
        }
      ]
    },
    {
      "cell_type": "markdown",
      "metadata": {
        "id": "FtXfgDl37HSI",
        "colab_type": "text"
      },
      "source": [
        "#tuples\n",
        "-denoted by ()\n",
        "-are immutable\n",
        "-cant be changed or deleted\n",
        "\n",
        "\n",
        "tuples vs list\n",
        "- list[] tuple()\n",
        "-lists are mutable,tuples are immutable\n",
        " - tuples are faster than lists"
      ]
    },
    {
      "cell_type": "code",
      "metadata": {
        "id": "KeIpIKi07fJA",
        "colab_type": "code",
        "colab": {}
      },
      "source": [
        ""
      ],
      "execution_count": 0,
      "outputs": []
    },
    {
      "cell_type": "markdown",
      "metadata": {
        "id": "zaA_1lyf7gOU",
        "colab_type": "text"
      },
      "source": [
        "#Dictionary \n",
        "  - enclosed in {}\n",
        "  - cocnsists of key value pairs\n",
        "  - each key is separated to its value by colon(:)\n",
        "  - each key value pair is separated by comma(,)\n",
        "  - keys must be unique while creating a dicionary\n",
        "  - is mutable"
      ]
    },
    {
      "cell_type": "code",
      "metadata": {
        "id": "9I7YgHzJ7_ai",
        "colab_type": "code",
        "outputId": "442a4b0a-421f-4978-d6c4-789f27b81ff0",
        "colab": {
          "base_uri": "https://localhost:8080/",
          "height": 50
        }
      },
      "source": [
        "d1={\"name\":\"gitam\",\"email\":\"abc@gitam.com\",\"place\":\"hhyd\"}\n",
        "print(d1)\n",
        "print(type(d1))"
      ],
      "execution_count": 0,
      "outputs": [
        {
          "output_type": "stream",
          "text": [
            "{'name': 'gitam', 'email': 'abc@gitam.com', 'place': 'hhyd'}\n",
            "<class 'dict'>\n"
          ],
          "name": "stdout"
        }
      ]
    },
    {
      "cell_type": "code",
      "metadata": {
        "id": "ty-MpFCo8Yqe",
        "colab_type": "code",
        "outputId": "5c572cc1-76e3-412d-f44f-1079108b590d",
        "colab": {
          "base_uri": "https://localhost:8080/",
          "height": 34
        }
      },
      "source": [
        "d1[\"name\"]"
      ],
      "execution_count": 0,
      "outputs": [
        {
          "output_type": "execute_result",
          "data": {
            "text/plain": [
              "'gitam'"
            ]
          },
          "metadata": {
            "tags": []
          },
          "execution_count": 70
        }
      ]
    },
    {
      "cell_type": "code",
      "metadata": {
        "id": "deve_uDr81QP",
        "colab_type": "code",
        "outputId": "e413ba64-9cf1-42d7-cc2e-94a9a5188f42",
        "colab": {
          "base_uri": "https://localhost:8080/",
          "height": 34
        }
      },
      "source": [
        "d1[\"email\"]=\"xyz@gmail.com\"\n",
        "d1"
      ],
      "execution_count": 0,
      "outputs": [
        {
          "output_type": "execute_result",
          "data": {
            "text/plain": [
              "{'email': 'xyz@gmail.com', 'name': 'gitam', 'place': 'hhyd'}"
            ]
          },
          "metadata": {
            "tags": []
          },
          "execution_count": 71
        }
      ]
    },
    {
      "cell_type": "code",
      "metadata": {
        "id": "L2kMTXvx9Sxb",
        "colab_type": "code",
        "outputId": "d7f4dd53-cbe4-4f81-ff8b-a77396649908",
        "colab": {
          "base_uri": "https://localhost:8080/",
          "height": 84
        }
      },
      "source": [
        "d1[\"course\"]=\"python\"\n",
        "d1"
      ],
      "execution_count": 0,
      "outputs": [
        {
          "output_type": "execute_result",
          "data": {
            "text/plain": [
              "{'course': 'python',\n",
              " 'email': 'xyz@gmail.com',\n",
              " 'name': 'gitam',\n",
              " 'place': 'hhyd'}"
            ]
          },
          "metadata": {
            "tags": []
          },
          "execution_count": 72
        }
      ]
    },
    {
      "cell_type": "code",
      "metadata": {
        "id": "8ZA_XMHJ9rVf",
        "colab_type": "code",
        "outputId": "e3f3b76b-e18f-4f17-edc6-c6f9ce3be4b3",
        "colab": {
          "base_uri": "https://localhost:8080/",
          "height": 34
        }
      },
      "source": [
        "del d1['course']\n",
        "d1"
      ],
      "execution_count": 0,
      "outputs": [
        {
          "output_type": "execute_result",
          "data": {
            "text/plain": [
              "{'email': 'xyz@gmail.com', 'name': 'gitam', 'place': 'hhyd'}"
            ]
          },
          "metadata": {
            "tags": []
          },
          "execution_count": 73
        }
      ]
    },
    {
      "cell_type": "code",
      "metadata": {
        "id": "YRXOalry-C5n",
        "colab_type": "code",
        "outputId": "4e743c39-d8e6-4a83-ff11-c4a70c84c80a",
        "colab": {
          "base_uri": "https://localhost:8080/",
          "height": 34
        }
      },
      "source": [
        "d1.keys()#returns only keys"
      ],
      "execution_count": 0,
      "outputs": [
        {
          "output_type": "execute_result",
          "data": {
            "text/plain": [
              "dict_keys(['name', 'email', 'place'])"
            ]
          },
          "metadata": {
            "tags": []
          },
          "execution_count": 74
        }
      ]
    },
    {
      "cell_type": "code",
      "metadata": {
        "id": "gcoxbXjU-u2Z",
        "colab_type": "code",
        "outputId": "cc9651b6-e65a-4fa5-cdf1-e9a29981537f",
        "colab": {
          "base_uri": "https://localhost:8080/",
          "height": 34
        }
      },
      "source": [
        "d={\"course\":\"py\",\"course\":\"c\"}#incase  of dublicate keys the previous value is overridden\n",
        "d"
      ],
      "execution_count": 0,
      "outputs": [
        {
          "output_type": "execute_result",
          "data": {
            "text/plain": [
              "{'course': 'c'}"
            ]
          },
          "metadata": {
            "tags": []
          },
          "execution_count": 76
        }
      ]
    },
    {
      "cell_type": "code",
      "metadata": {
        "id": "ET1X_uzE_u78",
        "colab_type": "code",
        "outputId": "7e994715-24d1-45a4-ee16-65b5d2831258",
        "colab": {
          "base_uri": "https://localhost:8080/",
          "height": 1000
        }
      },
      "source": [
        "help(\"dict\")"
      ],
      "execution_count": 0,
      "outputs": [
        {
          "output_type": "stream",
          "text": [
            "Help on class dict in module builtins:\n",
            "\n",
            "class dict(object)\n",
            " |  dict() -> new empty dictionary\n",
            " |  dict(mapping) -> new dictionary initialized from a mapping object's\n",
            " |      (key, value) pairs\n",
            " |  dict(iterable) -> new dictionary initialized as if via:\n",
            " |      d = {}\n",
            " |      for k, v in iterable:\n",
            " |          d[k] = v\n",
            " |  dict(**kwargs) -> new dictionary initialized with the name=value pairs\n",
            " |      in the keyword argument list.  For example:  dict(one=1, two=2)\n",
            " |  \n",
            " |  Methods defined here:\n",
            " |  \n",
            " |  __contains__(self, key, /)\n",
            " |      True if D has a key k, else False.\n",
            " |  \n",
            " |  __delitem__(self, key, /)\n",
            " |      Delete self[key].\n",
            " |  \n",
            " |  __eq__(self, value, /)\n",
            " |      Return self==value.\n",
            " |  \n",
            " |  __ge__(self, value, /)\n",
            " |      Return self>=value.\n",
            " |  \n",
            " |  __getattribute__(self, name, /)\n",
            " |      Return getattr(self, name).\n",
            " |  \n",
            " |  __getitem__(...)\n",
            " |      x.__getitem__(y) <==> x[y]\n",
            " |  \n",
            " |  __gt__(self, value, /)\n",
            " |      Return self>value.\n",
            " |  \n",
            " |  __init__(self, /, *args, **kwargs)\n",
            " |      Initialize self.  See help(type(self)) for accurate signature.\n",
            " |  \n",
            " |  __iter__(self, /)\n",
            " |      Implement iter(self).\n",
            " |  \n",
            " |  __le__(self, value, /)\n",
            " |      Return self<=value.\n",
            " |  \n",
            " |  __len__(self, /)\n",
            " |      Return len(self).\n",
            " |  \n",
            " |  __lt__(self, value, /)\n",
            " |      Return self<value.\n",
            " |  \n",
            " |  __ne__(self, value, /)\n",
            " |      Return self!=value.\n",
            " |  \n",
            " |  __new__(*args, **kwargs) from builtins.type\n",
            " |      Create and return a new object.  See help(type) for accurate signature.\n",
            " |  \n",
            " |  __repr__(self, /)\n",
            " |      Return repr(self).\n",
            " |  \n",
            " |  __setitem__(self, key, value, /)\n",
            " |      Set self[key] to value.\n",
            " |  \n",
            " |  __sizeof__(...)\n",
            " |      D.__sizeof__() -> size of D in memory, in bytes\n",
            " |  \n",
            " |  clear(...)\n",
            " |      D.clear() -> None.  Remove all items from D.\n",
            " |  \n",
            " |  copy(...)\n",
            " |      D.copy() -> a shallow copy of D\n",
            " |  \n",
            " |  fromkeys(iterable, value=None, /) from builtins.type\n",
            " |      Returns a new dict with keys from iterable and values equal to value.\n",
            " |  \n",
            " |  get(...)\n",
            " |      D.get(k[,d]) -> D[k] if k in D, else d.  d defaults to None.\n",
            " |  \n",
            " |  items(...)\n",
            " |      D.items() -> a set-like object providing a view on D's items\n",
            " |  \n",
            " |  keys(...)\n",
            " |      D.keys() -> a set-like object providing a view on D's keys\n",
            " |  \n",
            " |  pop(...)\n",
            " |      D.pop(k[,d]) -> v, remove specified key and return the corresponding value.\n",
            " |      If key is not found, d is returned if given, otherwise KeyError is raised\n",
            " |  \n",
            " |  popitem(...)\n",
            " |      D.popitem() -> (k, v), remove and return some (key, value) pair as a\n",
            " |      2-tuple; but raise KeyError if D is empty.\n",
            " |  \n",
            " |  setdefault(...)\n",
            " |      D.setdefault(k[,d]) -> D.get(k,d), also set D[k]=d if k not in D\n",
            " |  \n",
            " |  update(...)\n",
            " |      D.update([E, ]**F) -> None.  Update D from dict/iterable E and F.\n",
            " |      If E is present and has a .keys() method, then does:  for k in E: D[k] = E[k]\n",
            " |      If E is present and lacks a .keys() method, then does:  for k, v in E: D[k] = v\n",
            " |      In either case, this is followed by: for k in F:  D[k] = F[k]\n",
            " |  \n",
            " |  values(...)\n",
            " |      D.values() -> an object providing a view on D's values\n",
            " |  \n",
            " |  ----------------------------------------------------------------------\n",
            " |  Data and other attributes defined here:\n",
            " |  \n",
            " |  __hash__ = None\n",
            "\n"
          ],
          "name": "stdout"
        }
      ]
    },
    {
      "cell_type": "code",
      "metadata": {
        "id": "RdoP_YXnAL_L",
        "colab_type": "code",
        "colab": {}
      },
      "source": [
        ""
      ],
      "execution_count": 0,
      "outputs": []
    },
    {
      "cell_type": "markdown",
      "metadata": {
        "id": "opz8DARpAnm0",
        "colab_type": "text"
      },
      "source": [
        "#Strings"
      ]
    },
    {
      "cell_type": "code",
      "metadata": {
        "id": "HW-qEgVqArl_",
        "colab_type": "code",
        "outputId": "c17f9fc9-8b93-4215-c99f-538aba29c845",
        "colab": {
          "base_uri": "https://localhost:8080/",
          "height": 118
        }
      },
      "source": [
        "s=\"python\"\n",
        "print(s[0])\n",
        "print(s[0:4])\n",
        "print(s[0:5:2])\n",
        "print(s[0:-4])\n",
        "print(s[::2])\n",
        "print(s[::-1])#reverse of string"
      ],
      "execution_count": 0,
      "outputs": [
        {
          "output_type": "stream",
          "text": [
            "p\n",
            "pyth\n",
            "pto\n",
            "py\n",
            "pto\n",
            "nohtyp\n"
          ],
          "name": "stdout"
        }
      ]
    },
    {
      "cell_type": "code",
      "metadata": {
        "id": "0J8suIcmA79v",
        "colab_type": "code",
        "outputId": "63a634dc-2e44-4941-bc0c-19ba99dbbab0",
        "colab": {
          "base_uri": "https://localhost:8080/",
          "height": 34
        }
      },
      "source": [
        "#function to check string is palindrome or not\n",
        "\n",
        "def palin(n):\n",
        "   m=n[::-1]\n",
        "   if m==n:\n",
        "     print(\"palindrome\")\n",
        "\n",
        "palin(\"aba\")"
      ],
      "execution_count": 0,
      "outputs": [
        {
          "output_type": "stream",
          "text": [
            "palindrome\n"
          ],
          "name": "stdout"
        }
      ]
    },
    {
      "cell_type": "code",
      "metadata": {
        "id": "Xi71-HWHCena",
        "colab_type": "code",
        "colab": {}
      },
      "source": [
        ""
      ],
      "execution_count": 0,
      "outputs": []
    },
    {
      "cell_type": "markdown",
      "metadata": {
        "id": "JBG43dbLDbmb",
        "colab_type": "text"
      },
      "source": [
        "#string methods\n",
        "- join(): method to concatinate\n",
        "- split():displayed in the form of list\n",
        "- replace():replaces the string or char"
      ]
    },
    {
      "cell_type": "code",
      "metadata": {
        "id": "Xl1poyEFDoVV",
        "colab_type": "code",
        "outputId": "5793c802-b8d8-401a-da87-993895a3c2c0",
        "colab": {
          "base_uri": "https://localhost:8080/",
          "height": 34
        }
      },
      "source": [
        "s\n",
        "print(\" \".join(s))"
      ],
      "execution_count": 0,
      "outputs": [
        {
          "output_type": "stream",
          "text": [
            "p y t h o n\n"
          ],
          "name": "stdout"
        }
      ]
    },
    {
      "cell_type": "code",
      "metadata": {
        "id": "xtS4IfmXDtMP",
        "colab_type": "code",
        "outputId": "01b72200-cafe-48d2-b5bd-56a22b6e662e",
        "colab": {
          "base_uri": "https://localhost:8080/",
          "height": 34
        }
      },
      "source": [
        "s3=\"python is easy\"\n",
        "print(s3.split())\n"
      ],
      "execution_count": 0,
      "outputs": [
        {
          "output_type": "stream",
          "text": [
            "['python', 'is', 'easy']\n"
          ],
          "name": "stdout"
        }
      ]
    },
    {
      "cell_type": "code",
      "metadata": {
        "id": "3ENGQGnLESAS",
        "colab_type": "code",
        "colab": {}
      },
      "source": [
        "print(s3.split('a'))"
      ],
      "execution_count": 0,
      "outputs": []
    },
    {
      "cell_type": "code",
      "metadata": {
        "id": "7wBEwn3ZE2Cl",
        "colab_type": "code",
        "outputId": "0d8ecd95-8947-4b4b-a437-cfdc472154b8",
        "colab": {
          "base_uri": "https://localhost:8080/",
          "height": 34
        }
      },
      "source": [
        "print(s3.replace(\"python\",\"c\"))"
      ],
      "execution_count": 0,
      "outputs": [
        {
          "output_type": "stream",
          "text": [
            "c is easy\n"
          ],
          "name": "stdout"
        }
      ]
    },
    {
      "cell_type": "code",
      "metadata": {
        "id": "mdCdB9SjFz0i",
        "colab_type": "code",
        "colab": {}
      },
      "source": [
        ""
      ],
      "execution_count": 0,
      "outputs": []
    }
  ]
}