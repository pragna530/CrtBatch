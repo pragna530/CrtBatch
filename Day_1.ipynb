{
  "nbformat": 4,
  "nbformat_minor": 0,
  "metadata": {
    "colab": {
      "name": "Day 1",
      "provenance": [],
      "collapsed_sections": []
    },
    "kernelspec": {
      "name": "python3",
      "display_name": "Python 3"
    }
  },
  "cells": [
    {
      "cell_type": "code",
      "metadata": {
        "id": "8R_lA16F_sAZ",
        "colab_type": "code",
        "outputId": "b695fc69-aafa-4934-a41b-41f9e97091d2",
        "colab": {
          "base_uri": "https://localhost:8080/",
          "height": 34
        }
      },
      "source": [
        "print(\"hello world\")"
      ],
      "execution_count": 0,
      "outputs": [
        {
          "output_type": "stream",
          "text": [
            "hello world\n"
          ],
          "name": "stdout"
        }
      ]
    },
    {
      "cell_type": "markdown",
      "metadata": {
        "id": "SECVpACnDjKC",
        "colab_type": "text"
      },
      "source": [
        "# helloooo\n",
        "## helloooo\n",
        "### helloooo\n",
        "#### hellooo\n",
        "##### helloo\n",
        "###### helloo\n"
      ]
    },
    {
      "cell_type": "code",
      "metadata": {
        "id": "XVYaS6lWHEPY",
        "colab_type": "code",
        "outputId": "664d1286-6706-47f0-8931-e94b7049c75e",
        "colab": {
          "base_uri": "https://localhost:8080/",
          "height": 34
        }
      },
      "source": [
        "a=10\n",
        "a\n",
        "a*2"
      ],
      "execution_count": 0,
      "outputs": [
        {
          "output_type": "execute_result",
          "data": {
            "text/plain": [
              "20"
            ]
          },
          "metadata": {
            "tags": []
          },
          "execution_count": 5
        }
      ]
    },
    {
      "cell_type": "code",
      "metadata": {
        "id": "4-UnWDGNHfH7",
        "colab_type": "code",
        "outputId": "aec16e50-fb1c-4d27-d230-79a4f3ac9e2d",
        "colab": {
          "base_uri": "https://localhost:8080/",
          "height": 50
        }
      },
      "source": [
        "a=10\n",
        "print(a)\n",
        "a*2"
      ],
      "execution_count": 0,
      "outputs": [
        {
          "output_type": "stream",
          "text": [
            "10\n"
          ],
          "name": "stdout"
        },
        {
          "output_type": "execute_result",
          "data": {
            "text/plain": [
              "20"
            ]
          },
          "metadata": {
            "tags": []
          },
          "execution_count": 6
        }
      ]
    },
    {
      "cell_type": "markdown",
      "metadata": {
        "id": "YRt_exQaHOLT",
        "colab_type": "text"
      },
      "source": [
        "executes the last line if print not specified\n",
        "\n"
      ]
    },
    {
      "cell_type": "code",
      "metadata": {
        "id": "80wArEi-E89A",
        "colab_type": "code",
        "outputId": "ecfaff6e-77ef-494a-bca7-7f48aec6d763",
        "colab": {
          "base_uri": "https://localhost:8080/",
          "height": 34
        }
      },
      "source": [
        "print(\"gitam\",end=\" \")\n",
        "print(\"gitam\",end=' # ')\n",
        "print(\"gitam\",end=' $')"
      ],
      "execution_count": 0,
      "outputs": [
        {
          "output_type": "stream",
          "text": [
            "gitam gitam # gitam $"
          ],
          "name": "stdout"
        }
      ]
    },
    {
      "cell_type": "markdown",
      "metadata": {
        "id": "G-TgUVECH-kk",
        "colab_type": "text"
      },
      "source": [
        "identifier naming rules same as in c\n"
      ]
    },
    {
      "cell_type": "code",
      "metadata": {
        "id": "yub7wvb4IoS0",
        "colab_type": "code",
        "outputId": "6e579b39-37cd-4f31-b654-863ea69b65c6",
        "colab": {
          "base_uri": "https://localhost:8080/",
          "height": 34
        }
      },
      "source": [
        "b=20\n",
        "a+b"
      ],
      "execution_count": 0,
      "outputs": [
        {
          "output_type": "execute_result",
          "data": {
            "text/plain": [
              "30"
            ]
          },
          "metadata": {
            "tags": []
          },
          "execution_count": 7
        }
      ]
    },
    {
      "cell_type": "code",
      "metadata": {
        "id": "0AwVv_P6Irsp",
        "colab_type": "code",
        "outputId": "f8dd3e53-5ede-4a3b-c43b-ee31091b1cf9",
        "colab": {
          "base_uri": "https://localhost:8080/",
          "height": 34
        }
      },
      "source": [
        "name=\"gitam\"\n",
        "Add=\"hyd\"\n",
        "print(\"university name:\",name,\"place:\",Add)\n"
      ],
      "execution_count": 0,
      "outputs": [
        {
          "output_type": "stream",
          "text": [
            "university name: gitam place: hyd\n"
          ],
          "name": "stdout"
        }
      ]
    },
    {
      "cell_type": "markdown",
      "metadata": {
        "id": "aRs0HZwaKPEn",
        "colab_type": "text"
      },
      "source": [
        "**taking INPUT**\n",
        "\n",
        "every input is considered as a string"
      ]
    },
    {
      "cell_type": "code",
      "metadata": {
        "id": "QQmjxBxbKVnF",
        "colab_type": "code",
        "outputId": "8b53be86-b1ff-4a07-a837-814cb0f779c6",
        "colab": {
          "base_uri": "https://localhost:8080/",
          "height": 67
        }
      },
      "source": [
        "input(\"enter your name\")\n",
        "input()"
      ],
      "execution_count": 0,
      "outputs": [
        {
          "output_type": "stream",
          "text": [
            "enter your namepragna\n",
            "5\n"
          ],
          "name": "stdout"
        },
        {
          "output_type": "execute_result",
          "data": {
            "text/plain": [
              "'5'"
            ]
          },
          "metadata": {
            "tags": []
          },
          "execution_count": 22
        }
      ]
    },
    {
      "cell_type": "code",
      "metadata": {
        "id": "568McVhCLInP",
        "colab_type": "code",
        "outputId": "40c216b2-6578-42c8-e7d1-9ee1643fe33f",
        "colab": {
          "base_uri": "https://localhost:8080/",
          "height": 50
        }
      },
      "source": [
        "int(input())"
      ],
      "execution_count": 0,
      "outputs": [
        {
          "output_type": "stream",
          "text": [
            "5\n"
          ],
          "name": "stdout"
        },
        {
          "output_type": "execute_result",
          "data": {
            "text/plain": [
              "5"
            ]
          },
          "metadata": {
            "tags": []
          },
          "execution_count": 23
        }
      ]
    },
    {
      "cell_type": "code",
      "metadata": {
        "id": "o7E4_qTPL-RU",
        "colab_type": "code",
        "outputId": "6d4c558e-5646-474c-8db6-0f54c6868493",
        "colab": {
          "base_uri": "https://localhost:8080/",
          "height": 50
        }
      },
      "source": [
        "B=int(input())\n",
        "type(B)"
      ],
      "execution_count": 0,
      "outputs": [
        {
          "output_type": "stream",
          "text": [
            "8\n"
          ],
          "name": "stdout"
        },
        {
          "output_type": "execute_result",
          "data": {
            "text/plain": [
              "int"
            ]
          },
          "metadata": {
            "tags": []
          },
          "execution_count": 24
        }
      ]
    },
    {
      "cell_type": "code",
      "metadata": {
        "id": "ZM40-4XMMPao",
        "colab_type": "code",
        "colab": {}
      },
      "source": [
        ""
      ],
      "execution_count": 0,
      "outputs": []
    },
    {
      "cell_type": "markdown",
      "metadata": {
        "id": "_ayBXjn3M99v",
        "colab_type": "text"
      },
      "source": [
        "# **Fundamental Data Types**\n",
        "    \n",
        "\n",
        "*   int \n",
        "*   float\n",
        "*    complex\n",
        "*   boolean (true or false)\n",
        "*   string\n",
        "\n",
        "\n",
        "\n"
      ]
    },
    {
      "cell_type": "code",
      "metadata": {
        "id": "M3gFwHqhNxXj",
        "colab_type": "code",
        "outputId": "0a6d51de-82d2-4996-9d42-5781e49df511",
        "colab": {
          "base_uri": "https://localhost:8080/",
          "height": 34
        }
      },
      "source": [
        "a=5\n",
        "b=13.5\n",
        "c=2+6j\n",
        "\n",
        "print(type(a),type(b),type(c))\n"
      ],
      "execution_count": 0,
      "outputs": [
        {
          "output_type": "stream",
          "text": [
            "<class 'int'> <class 'float'> <class 'complex'>\n"
          ],
          "name": "stdout"
        }
      ]
    },
    {
      "cell_type": "code",
      "metadata": {
        "id": "-7AFOMnqN7sD",
        "colab_type": "code",
        "outputId": "94c028dd-57d3-48d6-8c2b-4e9a8a743daa",
        "colab": {
          "base_uri": "https://localhost:8080/",
          "height": 67
        }
      },
      "source": [
        "print(a+b)\n",
        "print(b+c)\n",
        "z=complex(b)\n",
        "z"
      ],
      "execution_count": 0,
      "outputs": [
        {
          "output_type": "stream",
          "text": [
            "18.5\n",
            "(15.5+6j)\n"
          ],
          "name": "stdout"
        },
        {
          "output_type": "execute_result",
          "data": {
            "text/plain": [
              "(13.5+0j)"
            ]
          },
          "metadata": {
            "tags": []
          },
          "execution_count": 32
        }
      ]
    },
    {
      "cell_type": "code",
      "metadata": {
        "id": "BPT809vyPR94",
        "colab_type": "code",
        "outputId": "bca50746-04f0-4162-b87d-ccb46402ff8f",
        "colab": {
          "base_uri": "https://localhost:8080/",
          "height": 34
        }
      },
      "source": [
        "x=\"a\"\n",
        "y=\"gitam\"\n",
        "print(type(x),type(y))"
      ],
      "execution_count": 0,
      "outputs": [
        {
          "output_type": "stream",
          "text": [
            "<class 'str'> <class 'str'>\n"
          ],
          "name": "stdout"
        }
      ]
    },
    {
      "cell_type": "markdown",
      "metadata": {
        "id": "U6-0RVR_Q7wU",
        "colab_type": "text"
      },
      "source": [
        "convertion of int to string and float"
      ]
    },
    {
      "cell_type": "code",
      "metadata": {
        "id": "xk_C_sqVQT8A",
        "colab_type": "code",
        "outputId": "d6e58b28-01d4-4862-bc54-bc904547f65c",
        "colab": {
          "base_uri": "https://localhost:8080/",
          "height": 84
        }
      },
      "source": [
        "i=100\n",
        "print(type(i))\n",
        "p=str(i)\n",
        "print(type(p))\n",
        "q=float(i)\n",
        "print(type(q))\n",
        "print(i,p,q)"
      ],
      "execution_count": 0,
      "outputs": [
        {
          "output_type": "stream",
          "text": [
            "<class 'int'>\n",
            "<class 'str'>\n",
            "<class 'float'>\n",
            "100 100 100.0\n"
          ],
          "name": "stdout"
        }
      ]
    },
    {
      "cell_type": "code",
      "metadata": {
        "id": "PabEbZqKSTe0",
        "colab_type": "code",
        "colab": {}
      },
      "source": [
        ""
      ],
      "execution_count": 0,
      "outputs": []
    },
    {
      "cell_type": "markdown",
      "metadata": {
        "id": "gb3ekqwCS2je",
        "colab_type": "text"
      },
      "source": [
        "# **operators**\n",
        " ##1. Arithematic : +,-, * ,/,%,//(eleminates the decimal value), ** (power)\n",
        " ##2.logical:and, or ,not\n",
        " ##3. relaational:<,<=,>,>=,==,!=\n",
        " ##4.membership operator:in & not in"
      ]
    },
    {
      "cell_type": "code",
      "metadata": {
        "id": "aQqusoToTbQ-",
        "colab_type": "code",
        "outputId": "e78fe6bf-7908-41c5-e6a3-8228b4220a5e",
        "colab": {
          "base_uri": "https://localhost:8080/",
          "height": 134
        }
      },
      "source": [
        "x=10\n",
        "y=5\n",
        "print(x+y)\n",
        "print(x-y)\n",
        "print(x*y)\n",
        "print(x/y)\n",
        "print(x%y)\n",
        "print(x**y) #power\n",
        "print(x//y) #float division"
      ],
      "execution_count": 0,
      "outputs": [
        {
          "output_type": "stream",
          "text": [
            "15\n",
            "5\n",
            "50\n",
            "2.0\n",
            "0\n",
            "100000\n",
            "2\n"
          ],
          "name": "stdout"
        }
      ]
    },
    {
      "cell_type": "code",
      "metadata": {
        "id": "VZazzgZBUonm",
        "colab_type": "code",
        "outputId": "abe29321-fcc9-4c64-d94c-10af1fc6f9b5",
        "colab": {
          "base_uri": "https://localhost:8080/",
          "height": 50
        }
      },
      "source": [
        "#logical operators\n",
        "a=20\n",
        "b=30\n",
        "print(a>10 and a<15)\n",
        "print(a>10 or b<10)\n",
        "print()"
      ],
      "execution_count": 0,
      "outputs": [
        {
          "output_type": "stream",
          "text": [
            "False\n",
            "True\n"
          ],
          "name": "stdout"
        }
      ]
    },
    {
      "cell_type": "code",
      "metadata": {
        "id": "K3l5UBTIWIz7",
        "colab_type": "code",
        "colab": {}
      },
      "source": [
        "#conditional stataement\n",
        "#if(single conditon)\n",
        "#elif(multilple comditons )\n",
        "#if-else(two conditions)\n"
      ],
      "execution_count": 0,
      "outputs": []
    },
    {
      "cell_type": "code",
      "metadata": {
        "id": "BsD9_p4YbXrY",
        "colab_type": "code",
        "colab": {}
      },
      "source": [
        ""
      ],
      "execution_count": 0,
      "outputs": []
    },
    {
      "cell_type": "markdown",
      "metadata": {
        "id": "kZirz6zJbakW",
        "colab_type": "text"
      },
      "source": [
        "syntax \n",
        "#if:\n",
        "##### <1 tab space or indented block >statement\n"
      ]
    },
    {
      "cell_type": "code",
      "metadata": {
        "id": "TijRp-lhcSUq",
        "colab_type": "code",
        "outputId": "49e34026-2d9c-47d0-8270-8707d397ba22",
        "colab": {
          "base_uri": "https://localhost:8080/",
          "height": 50
        }
      },
      "source": [
        "##odd no\n",
        "n=int(input(\"enetr a number\"))\n",
        "\n",
        "if n%2!=0:\n",
        "   print(\"odd\")\n",
        "else: \n",
        "  print(\"even\")\n"
      ],
      "execution_count": 0,
      "outputs": [
        {
          "output_type": "stream",
          "text": [
            "enetr a number2\n",
            "even\n"
          ],
          "name": "stdout"
        }
      ]
    },
    {
      "cell_type": "code",
      "metadata": {
        "id": "GggwWhtQjBYk",
        "colab_type": "code",
        "outputId": "9b9191e9-0ab7-4db2-932c-a628fb84753a",
        "colab": {
          "base_uri": "https://localhost:8080/",
          "height": 50
        }
      },
      "source": [
        "n=int(input(\"enetr a number\"))\n",
        "if n>0:\n",
        "  print(\"positive\")\n",
        "elif n<0:\n",
        "  print(\"negetive\")\n",
        "else:\n",
        "   print(\"zero\")\n"
      ],
      "execution_count": 0,
      "outputs": [
        {
          "output_type": "stream",
          "text": [
            "enetr a number5\n",
            "positive\n"
          ],
          "name": "stdout"
        }
      ]
    },
    {
      "cell_type": "code",
      "metadata": {
        "id": "G1QzKqTZjXDo",
        "colab_type": "code",
        "outputId": "4dcac07e-e004-46f3-ea7b-ed1dd1d0441c",
        "colab": {
          "base_uri": "https://localhost:8080/",
          "height": 50
        }
      },
      "source": [
        "#leap year\n",
        "\n",
        "n=int(input(\"enter the year\"))\n",
        "if (n%400==0) or (n%100!=0 and n%4==0):\n",
        "  print(\"leap year\")\n",
        "else :\n",
        "     print(\"not a leap year\") \n"
      ],
      "execution_count": 0,
      "outputs": [
        {
          "output_type": "stream",
          "text": [
            "enter the year2000\n",
            "leap year\n"
          ],
          "name": "stdout"
        }
      ]
    },
    {
      "cell_type": "code",
      "metadata": {
        "id": "znn6XBDLlY5c",
        "colab_type": "code",
        "colab": {}
      },
      "source": [
        ""
      ],
      "execution_count": 0,
      "outputs": []
    }
  ]
}